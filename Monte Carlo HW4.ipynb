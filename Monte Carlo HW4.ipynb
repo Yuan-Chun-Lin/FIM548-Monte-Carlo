{
 "cells": [
  {
   "cell_type": "code",
   "execution_count": 161,
   "id": "579855eb",
   "metadata": {},
   "outputs": [],
   "source": [
    "import numpy as np\n",
    "import statsmodels.api as sm\n",
    "import matplotlib.pyplot as plt\n",
    "from scipy.stats import norm\n",
    "from scipy.stats import uniform\n",
    "import tqdm\n",
    "import math"
   ]
  },
  {
   "cell_type": "code",
   "execution_count": 162,
   "id": "41fb3219",
   "metadata": {},
   "outputs": [],
   "source": [
    "# CI function\n",
    "def CI(data,alpha):\n",
    "    sample_mean=np.mean(data) # data is a list!\n",
    "    sample_sigma=np.std(data)\n",
    "    critical_point = norm.ppf(1-alpha/2)\n",
    "    LB=sample_mean-critical_point*sample_sigma/np.sqrt(len(data))\n",
    "    UB=sample_mean+critical_point*sample_sigma/np.sqrt(len(data))\n",
    "    return LB,UB"
   ]
  },
  {
   "cell_type": "markdown",
   "id": "e6f059d2",
   "metadata": {},
   "source": [
    "# Question 1 :"
   ]
  },
  {
   "cell_type": "code",
   "execution_count": 148,
   "id": "f7111f21",
   "metadata": {
    "scrolled": true
   },
   "outputs": [
    {
     "name": "stdout",
     "output_type": "stream",
     "text": [
      "0.0009861596131251914 (-0.00031977871038803155, 0.0022920979366384143)\n"
     ]
    }
   ],
   "source": [
    "T,N=5,10\n",
    "r=0.04\n",
    "S=0.014\n",
    "size=100000\n",
    "default_rate=np.array([0.05, 0.01, 0.05, 0.05, 0.01, 0.1, 0.01, 0.09, 0.1, 0.02])\n",
    "recovery_rate=np.array([0.1, 0.1, 0.3, 0.1, 0.3, 0.1, 0.2, 0.2, 0.1, 0.1])\n",
    "\n",
    "# Copula matrix\n",
    "Copula=np.ones((N,N))*0.2\n",
    "for i in range(N):\n",
    "    Copula[i,i]=1\n",
    "#Generate Random variables\n",
    "mean=np.zeros(N)\n",
    "payoff=[]\n",
    "for i in range(size):\n",
    "    # Step 1:\n",
    "    Z=np.random.multivariate_normal(mean, Copula)\n",
    "    U=norm.cdf(Z)\n",
    "    default_time=-np.log(1-U)/default_rate\n",
    "    \n",
    "    # Step 2:\n",
    "    fifth_indicator=np.where(default_time==sorted(default_time)[4])[0][0]\n",
    "    tao=default_time[fifth_indicator]\n",
    "    \n",
    "    # Step 3:\n",
    "    if tao>T:\n",
    "        V_prot=S*np.exp(-r)*(1-np.exp(-5*r))/(1-np.exp(-r))\n",
    "        V_value=0\n",
    "    else:\n",
    "        Tj=math.floor(tao)\n",
    "        V_prot=S*np.exp(-r)*(1-np.exp(-Tj*r))/(1-np.exp(-r))+S*np.exp(-r*tao)*(tao-Tj)\n",
    "        V_value=(1-recovery_rate[fifth_indicator])*np.exp(-r*tao)\n",
    "    payoff.append(V_value-V_prot)\n",
    "print(np.mean(payoff),CI(payoff,0.05))"
   ]
  },
  {
   "cell_type": "markdown",
   "id": "c919c4a0",
   "metadata": {},
   "source": [
    "# Question 2 :"
   ]
  },
  {
   "cell_type": "code",
   "execution_count": 189,
   "id": "c7a50609",
   "metadata": {
    "scrolled": true
   },
   "outputs": [
    {
     "name": "stdout",
     "output_type": "stream",
     "text": [
      "100.09854922074207 (99.82034175838102, 100.37675668310312)\n"
     ]
    }
   ],
   "source": [
    "'''\n",
    "Exit time T follow pdf f(x)=x/18 0<x<6\n",
    "If T<6, Exit payoff: p*IPO payoff+(1-p)*M&A payoff \n",
    "Exit value above 1B would be IPO, all other are M&A\n",
    "If T=6, exit would be M&A\n",
    "Series B / M&A payoff = formula 1\n",
    "Series B / IPO payoff = X*Ib/Pb\n",
    "Also need to check if XT>1000 or not, \n",
    "'''\n",
    "# parameters\n",
    "Pa,Pb,Ia,Ib=450,1000,50,100\n",
    "share_new,share_old,share_current=0.1,0.1,0.8\n",
    "r,sigma=0.025,0.9\n",
    "size=10000000\n",
    "\n",
    "X0=673 ##\n",
    "\n",
    "U=np.random.uniform(0,1,size)\n",
    "T=np.sqrt(36*U)\n",
    "\n",
    "Z=np.random.normal(0,1,size)\n",
    "X=X0*np.exp((r-0.5*(sigma**2))*T+sigma*np.sqrt(T)*Z)\n",
    "\n",
    "\n",
    "# Merge = np.max([np.min([Ia*X[np.where(X<1000)]/(Ia+Ib),np.ones(len(np.where(X<1000)[0]))*Ib],axis=0),X[np.where(X<1000)]*Ib/Pb],axis=0)\n",
    "Merge=np.maximum(np.minimum(Ib*X[X<1000]/(Ia+Ib),np.ones(len(X[X<1000]))*Ib),X[X<1000]*Ib/Pb)*np.exp(-r*T[X<1000])\n",
    "IPO = (X[X>=1000]*Ib/Pb)*np.exp(-r*T[X>=1000])\n",
    "payoff=np.append(Merge,IPO)\n",
    "\n",
    "print(np.mean(payoff),CI(payoff,0.05))\n",
    "\n"
   ]
  },
  {
   "cell_type": "code",
   "execution_count": null,
   "id": "e99e8c39",
   "metadata": {},
   "outputs": [],
   "source": []
  }
 ],
 "metadata": {
  "kernelspec": {
   "display_name": "Python 3 (ipykernel)",
   "language": "python",
   "name": "python3"
  },
  "language_info": {
   "codemirror_mode": {
    "name": "ipython",
    "version": 3
   },
   "file_extension": ".py",
   "mimetype": "text/x-python",
   "name": "python",
   "nbconvert_exporter": "python",
   "pygments_lexer": "ipython3",
   "version": "3.9.7"
  }
 },
 "nbformat": 4,
 "nbformat_minor": 5
}
