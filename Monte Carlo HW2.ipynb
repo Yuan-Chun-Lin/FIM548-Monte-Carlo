{
 "cells": [
  {
   "cell_type": "code",
   "execution_count": 1,
   "id": "1eed54c8",
   "metadata": {},
   "outputs": [],
   "source": [
    "import numpy as np\n",
    "import statsmodels.api as sm\n",
    "import matplotlib.pyplot as plt"
   ]
  },
  {
   "cell_type": "code",
   "execution_count": 2,
   "id": "fc5292a0",
   "metadata": {},
   "outputs": [],
   "source": [
    "#Q3\n",
    "T=1\n",
    "N=1000\n",
    "K=110\n",
    "r=0.05\n",
    "h=T/N\n",
    "\n",
    "def Q3_simulation(size):\n",
    "    call=[]\n",
    "    for i in range(0,size):\n",
    "        St=100\n",
    "        Z=np.random.normal(0,1,N)\n",
    "        for j in range(0,N):\n",
    "            sigma = 0.5*np.exp(-j*h)*((100/St)**0.3)\n",
    "            St=St+r*St*h+sigma*St*np.sqrt(h)*Z[j]\n",
    "        call.append(max(St-K,0)*np.exp(-r*T)) #European option 所以只需要最後一期\n",
    "    return np.mean(call)"
   ]
  },
  {
   "cell_type": "code",
   "execution_count": 3,
   "id": "64089950",
   "metadata": {},
   "outputs": [
    {
     "data": {
      "text/plain": [
       "10.671535737203481"
      ]
     },
     "execution_count": 3,
     "metadata": {},
     "output_type": "execute_result"
    }
   ],
   "source": [
    "Q3_simulation(1000)"
   ]
  },
  {
   "cell_type": "code",
   "execution_count": 4,
   "id": "18b29720",
   "metadata": {},
   "outputs": [],
   "source": [
    "#Q5\n",
    "theta=-0.1\n",
    "sigma=0.2\n",
    "v=0.2\n",
    "St=[100]\n",
    "r=0.03\n",
    "K=100\n",
    "T1=0.25\n",
    "T2=0.5\n",
    "N=2520\n",
    "h=T2/1000\n",
    "delta=0\n",
    "w=(1/v)*np.log(1-theta*v-(sigma**2)*v/2)\n",
    "\n",
    "# set simulation\n",
    "def Q5_simulation(size):\n",
    "    payoff=[]\n",
    "    for j in range(0,size):\n",
    "        Z=np.random.normal(0,1,N)\n",
    "        g=np.random.gamma(h/v,v,N)\n",
    "        # generate X\n",
    "        X=[]\n",
    "        for i in range(0,N):\n",
    "            a=theta*g[i]+sigma*np.sqrt(g[i])*Z[i]\n",
    "            X.append(a)\n",
    "        # generate S\n",
    "        St=[100]\n",
    "        for i in range(0,N):\n",
    "            b=St[i]*np.exp((r-delta+w)*h+X[i])\n",
    "            St.append(b)\n",
    "            if i == T1/h:\n",
    "                St1 = b\n",
    "        b = np.max(St[-1]-min(K,St1),0)\n",
    "        payoff.append(b)\n",
    "    # let payoff discounted from T2 to T=0 to get our price of contract.\n",
    "    return np.mean(payoff)*np.exp(-r*T2)"
   ]
  },
  {
   "cell_type": "code",
   "execution_count": 5,
   "id": "b9e95fa1",
   "metadata": {},
   "outputs": [
    {
     "data": {
      "text/plain": [
       "7.661545088169895"
      ]
     },
     "execution_count": 5,
     "metadata": {},
     "output_type": "execute_result"
    }
   ],
   "source": [
    "Q5_simulation(1000)"
   ]
  },
  {
   "cell_type": "code",
   "execution_count": 159,
   "id": "fc3b13f6",
   "metadata": {
    "scrolled": true
   },
   "outputs": [],
   "source": [
    "#Q4\n",
    "r=0.03\n",
    "k=2\n",
    "theta=0.04\n",
    "sigma=0.5\n",
    "rho=-0.7\n",
    "K=120\n",
    "T=0.5\n",
    "N=252\n",
    "h=T/N\n",
    "\n",
    "def Q4_simulation(m,size):\n",
    "    price=[]\n",
    "    for j in range(0,size):\n",
    "        S=[100]\n",
    "        Stm=[]\n",
    "        v=[0.04]\n",
    "        # generate independent Z\n",
    "        Z1=np.random.normal(0,1,N)\n",
    "        Z2=np.random.normal(0,1,N)\n",
    "        # By formula, Zv=Z1, Zs=rho*Z1+np.sqrt(1-(rho**2))*Z2\n",
    "        Zv=Z1\n",
    "        Zs=rho*Z1+np.sqrt(1-(rho**2))*Z2\n",
    "        # Generate v\n",
    "        for i in range(0,N):\n",
    "            a=v[i]+k*(theta-np.max([v[i],0]))*h+sigma*np.sqrt(np.max([v[i],0]))*np.sqrt(h)*Zv[i]\n",
    "            v.append(a)\n",
    "        # Generate S\n",
    "            b=S[i]*np.exp((r-(v[i]/2))*h+np.sqrt(np.max([v[i],0])*h)*Zs[i])\n",
    "            S.append(b)\n",
    "        for i in range(1,m+1):\n",
    "            c=int(i*N/m)\n",
    "            Stm.append(S[c])\n",
    "        price.append(np.max([np.max(Stm)-K,0])*np.exp(-r*T))\n",
    "    return price"
   ]
  },
  {
   "cell_type": "code",
   "execution_count": 160,
   "id": "a23985e9",
   "metadata": {
    "scrolled": false
   },
   "outputs": [],
   "source": [
    "price = Q4_simulation(3,1000)"
   ]
  },
  {
   "cell_type": "code",
   "execution_count": 162,
   "id": "8903ea61",
   "metadata": {},
   "outputs": [
    {
     "data": {
      "text/plain": [
       "0.2275968898045169"
      ]
     },
     "execution_count": 162,
     "metadata": {},
     "output_type": "execute_result"
    }
   ],
   "source": [
    "np.mean(price)"
   ]
  },
  {
   "cell_type": "code",
   "execution_count": 43,
   "id": "824f50a6",
   "metadata": {},
   "outputs": [],
   "source": [
    "# Q2 \n",
    "# Parameters\n",
    "r=0.04\n",
    "sigma=0.3\n",
    "K=55\n",
    "T=1\n",
    "i0=2\n",
    "m=4 ## Notice!\n",
    "N=252\n",
    "\n",
    "# Create Function:\n",
    "def Stockprice(N):\n",
    "    S=[100]\n",
    "    Z=np.random.normal(0,1,N)\n",
    "    h=T/N\n",
    "    for j in range(0,N):\n",
    "        a=S[j]+r*S[j]*h+sigma*S[j]*np.sqrt(h)*Z[j]\n",
    "        S.append(a)\n",
    "    return S\n",
    "\n",
    "def coupon(c,tao_period): # c : Annual coupon(單位:%)\n",
    "    coupon = 0\n",
    "    for i in range(1,tao_period+1):\n",
    "        coupon=coupon+np.exp(-i*r*T/m)*(c*T/m)\n",
    "    return coupon\n",
    "\n",
    "def Q2_simulation(c,size):\n",
    "    VC=[]\n",
    "    for j in range(0,size):\n",
    "        S = Stockprice(N) # use function of stock price simulation\n",
    "        # \n",
    "        period=[]\n",
    "        for i in range(i0,m+1):\n",
    "            if S[int(i*N/m)]>=S[0]:\n",
    "                period.append(i)\n",
    "            else:\n",
    "                period.append(m)\n",
    "        tao_period = min(period) # 注意tao是期數\n",
    "\n",
    "        # payoff # use coupon function\n",
    "        if tao_period<m:\n",
    "            payoff = np.exp(-r*T*tao_period/m)*S[0]+coupon(c,tao_period)\n",
    "        else:\n",
    "            if S[-1]>K:\n",
    "                payoff = np.exp(-r*T)*S[0]+coupon(c,tao_period)\n",
    "            else:\n",
    "                payoff = np.exp(-r*T)*S[-1]+coupon(c,tao_period)\n",
    "        VC.append(payoff)\n",
    "    return np.mean(VC)"
   ]
  },
  {
   "cell_type": "code",
   "execution_count": 54,
   "id": "89cc4cf6",
   "metadata": {},
   "outputs": [
    {
     "data": {
      "text/plain": [
       "99.9993277325867"
      ]
     },
     "execution_count": 54,
     "metadata": {},
     "output_type": "execute_result"
    }
   ],
   "source": [
    "Q2_simulation(5.61,10000)"
   ]
  },
  {
   "cell_type": "code",
   "execution_count": null,
   "id": "fcfdddfe",
   "metadata": {},
   "outputs": [],
   "source": [
    "def CI():\n",
    "    "
   ]
  },
  {
   "cell_type": "code",
   "execution_count": 39,
   "id": "c3ddc256",
   "metadata": {
    "scrolled": true
   },
   "outputs": [
    {
     "data": {
      "text/plain": [
       "0.0125"
      ]
     },
     "execution_count": 39,
     "metadata": {},
     "output_type": "execute_result"
    }
   ],
   "source": [
    "[[0.05*T/m]"
   ]
  },
  {
   "cell_type": "code",
   "execution_count": 37,
   "id": "530e8175",
   "metadata": {},
   "outputs": [
    {
     "data": {
      "text/plain": [
       "[[2, 534], [3, 86], [4, 380]]"
      ]
     },
     "execution_count": 37,
     "metadata": {},
     "output_type": "execute_result"
    }
   ],
   "source": [
    "[[x, check.count(x)] for x in set(check)]"
   ]
  },
  {
   "cell_type": "code",
   "execution_count": null,
   "id": "fcc11b1b",
   "metadata": {},
   "outputs": [],
   "source": []
  }
 ],
 "metadata": {
  "kernelspec": {
   "display_name": "Python 3",
   "language": "python",
   "name": "python3"
  },
  "language_info": {
   "codemirror_mode": {
    "name": "ipython",
    "version": 3
   },
   "file_extension": ".py",
   "mimetype": "text/x-python",
   "name": "python",
   "nbconvert_exporter": "python",
   "pygments_lexer": "ipython3",
   "version": "3.8.8"
  }
 },
 "nbformat": 4,
 "nbformat_minor": 5
}
