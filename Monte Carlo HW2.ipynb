{
 "cells": [
  {
   "cell_type": "code",
   "execution_count": 150,
   "id": "1eed54c8",
   "metadata": {},
   "outputs": [],
   "source": [
    "import numpy as np\n",
    "import statsmodels.api as sm\n",
    "import matplotlib.pyplot as plt\n",
    "from scipy.stats import norm\n",
    "import tqdm"
   ]
  },
  {
   "cell_type": "code",
   "execution_count": 12,
   "id": "fc5292a0",
   "metadata": {},
   "outputs": [],
   "source": [
    "#Q3\n",
    "T=1\n",
    "N=252\n",
    "K=110\n",
    "r=0.05\n",
    "h=T/N\n",
    "\n",
    "# Create Function:\n",
    "def CI(data,alpha):\n",
    "    sample_mean=np.mean(data) # data is a list!\n",
    "    sample_sigma=np.std(data)\n",
    "    critical_point = norm.ppf(1-alpha/2)\n",
    "    LB=sample_mean-critical_point*sample_sigma/np.sqrt(len(data))\n",
    "    UB=sample_mean+critical_point*sample_sigma/np.sqrt(len(data))\n",
    "    return LB,UB\n",
    "\n",
    "def Q3_simulation(size,significant_level):\n",
    "    call=[]\n",
    "    for i in tqdm.tqdm(range(0,size)):\n",
    "        St=100\n",
    "        for j in range(0,N):\n",
    "            Z=np.random.normal(0,1)\n",
    "            sigma = 0.5*np.exp(-j*h)*((100/St)**0.3)\n",
    "            St=St+r*St*h+sigma*St*np.sqrt(h)*Z\n",
    "        call.append(np.max([St-K,0])*np.exp(-r*T)) #European option 所以只需要最後一期\n",
    "    return np.mean(call),CI(call,significant_level)"
   ]
  },
  {
   "cell_type": "code",
   "execution_count": 15,
   "id": "64089950",
   "metadata": {},
   "outputs": [
    {
     "name": "stderr",
     "output_type": "stream",
     "text": [
      "100%|██████████| 1000000/1000000 [20:27<00:00, 814.71it/s]\n"
     ]
    },
    {
     "data": {
      "text/plain": [
       "(11.03031291905867, (10.990655325916336, 11.069970512201003))"
      ]
     },
     "execution_count": 15,
     "metadata": {},
     "output_type": "execute_result"
    }
   ],
   "source": [
    "Q3_simulation(1000000,0.05)"
   ]
  },
  {
   "cell_type": "code",
   "execution_count": 75,
   "id": "18b29720",
   "metadata": {},
   "outputs": [],
   "source": [
    "#Q5\n",
    "theta=-0.1\n",
    "sigma=0.2\n",
    "v=0.2\n",
    "S0=[100]\n",
    "r=0.03\n",
    "K=100\n",
    "T1=0.25\n",
    "T2=0.5\n",
    "N=252\n",
    "h=T2/N\n",
    "delta=0\n",
    "w=(1/v)*np.log(1-theta*v-(sigma**2)*v/2)\n",
    "\n",
    "# set simulation\n",
    "def Q5_simulation(size,significant_level):\n",
    "    payoff=[]\n",
    "    for i in tqdm.tqdm(range(0,size)):\n",
    "        Z=np.random.normal(0,1,N)\n",
    "        g=np.random.gamma(h/v,v,N)\n",
    "        # generate X (list)\n",
    "        X=theta*g+sigma*np.sqrt(g)*Z\n",
    "        # generate S\n",
    "        St=S0[0]*np.exp(np.cumsum((r-delta+w)*h+X))\n",
    "        St=S0+list(St) #併入S0\n",
    "        St1=St[int(T1/h)] # 找到T1的Stock price\n",
    "        b = np.max([St[-1]-np.min([K,St1]),0])*np.exp(-r*T2)\n",
    "        payoff.append(b)\n",
    "    # let payoff discounted from T2 to T=0 to get our price of contract.\n",
    "    return np.mean(payoff),CI(payoff,significant_level)"
   ]
  },
  {
   "cell_type": "code",
   "execution_count": 79,
   "id": "b9e95fa1",
   "metadata": {},
   "outputs": [
    {
     "name": "stderr",
     "output_type": "stream",
     "text": [
      "100%|██████████| 5000000/5000000 [06:08<00:00, 13572.07it/s]\n"
     ]
    },
    {
     "data": {
      "text/plain": [
       "(7.101765832561304, (7.093754765735225, 7.109776899387382))"
      ]
     },
     "execution_count": 79,
     "metadata": {},
     "output_type": "execute_result"
    }
   ],
   "source": [
    "Q5_simulation(5000000,0.05)"
   ]
  },
  {
   "cell_type": "code",
   "execution_count": 9,
   "id": "fc3b13f6",
   "metadata": {
    "scrolled": true
   },
   "outputs": [],
   "source": [
    "#Q4\n",
    "r=0.03\n",
    "k=2\n",
    "theta=0.04\n",
    "sigma=0.5\n",
    "rho=-0.7\n",
    "K=120\n",
    "T=0.5\n",
    "N=252\n",
    "h=T/N\n",
    "\n",
    "def Q4_simulation(m,size,significant_level):\n",
    "    price=[]\n",
    "    for j in range(0,size):\n",
    "        S=[100]\n",
    "        Stm=[]\n",
    "        v=[0.04]\n",
    "        # generate independent Z\n",
    "        Z1=np.random.normal(0,1,N)\n",
    "        Z2=np.random.normal(0,1,N)\n",
    "        # By formula, Zv=Z1, Zs=rho*Z1+np.sqrt(1-(rho**2))*Z2\n",
    "        Zv=Z1\n",
    "        Zs=rho*Z1+np.sqrt(1-(rho**2))*Z2\n",
    "        # Generate v\n",
    "        for i in range(0,N):\n",
    "            a=v[i]+k*(theta-np.max([v[i],0]))*h+sigma*np.sqrt(np.max([v[i],0]))*np.sqrt(h)*Zv[i]\n",
    "            v.append(a)\n",
    "        # Generate S\n",
    "            b=S[i]*np.exp((r-(v[i]/2))*h+np.sqrt(np.max([v[i],0])*h)*Zs[i])\n",
    "            S.append(b)\n",
    "        for i in range(1,m+1):\n",
    "            c=int(i*N/m)\n",
    "            Stm.append(S[c])\n",
    "        price.append(np.max([np.max(Stm)-K,0])*np.exp(-r*T))\n",
    "    return np.mean(price),CI(price,significant_level)"
   ]
  },
  {
   "cell_type": "code",
   "execution_count": 10,
   "id": "a23985e9",
   "metadata": {
    "scrolled": false
   },
   "outputs": [
    {
     "data": {
      "text/plain": [
       "(0.25626933519454487, (0.1719137961584551, 0.34062487423063464))"
      ]
     },
     "execution_count": 10,
     "metadata": {},
     "output_type": "execute_result"
    }
   ],
   "source": [
    "Q4_simulation(3,1000,0.05)"
   ]
  },
  {
   "cell_type": "code",
   "execution_count": 11,
   "id": "35e66a23",
   "metadata": {},
   "outputs": [
    {
     "data": {
      "text/plain": [
       "(0.27722796017924173, (0.18048996193323977, 0.3739659584252437))"
      ]
     },
     "execution_count": 11,
     "metadata": {},
     "output_type": "execute_result"
    }
   ],
   "source": [
    "Q4_simulation(6,1000,0.05)"
   ]
  },
  {
   "cell_type": "code",
   "execution_count": 12,
   "id": "39866a69",
   "metadata": {
    "scrolled": true
   },
   "outputs": [
    {
     "data": {
      "text/plain": [
       "(0.3281861920238675, (0.22174885186287305, 0.43462353218486194))"
      ]
     },
     "execution_count": 12,
     "metadata": {},
     "output_type": "execute_result"
    }
   ],
   "source": [
    "Q4_simulation(12,1000,0.05)"
   ]
  },
  {
   "cell_type": "code",
   "execution_count": 151,
   "id": "710df451",
   "metadata": {},
   "outputs": [],
   "source": [
    "def Q4_simulation_2(m,size,significant_level):\n",
    "    r=0.03\n",
    "    k=2\n",
    "    theta=0.04\n",
    "    sigma=0.5\n",
    "    rho=-0.7\n",
    "    K=120\n",
    "    T=0.5\n",
    "    N=252\n",
    "    h=T/N\n",
    "    v0 = 0.04\n",
    "    S0 = 100\n",
    "    # 矩陣作法代替Monte Carlo最外層的迴圏\n",
    "    v = np.ones((1,size))*v0\n",
    "    zero = np.zeros(size)\n",
    "    S = np.ones((1,size))*S0 \n",
    "    # generate independent Z\n",
    "    Z1=np.random.normal(0,1,(N,size))\n",
    "    Z2=np.random.normal(0,1,(N,size))\n",
    "    # By formula, Zv=Z1, Zs=rho*Z1+np.sqrt(1-(rho**2))*Z2\n",
    "    Zv=Z1\n",
    "    Zs=rho*Z1+np.sqrt(1-(rho**2))*Z2\n",
    "    for i in tqdm.tqdm(range(N)):\n",
    "        a=v[i,:]+k*(theta-np.max([v[i,:],zero],axis=0))*h+sigma*np.sqrt(np.max([v[i,:],zero],axis=0))*np.sqrt(h)*Zv[i,:]\n",
    "        v = np.append(v,[a],axis=0)\n",
    "        b=S[i,:]*np.exp((r-(v[i,:]/2))*h+np.sqrt(np.max([v[i,:],zero],axis=0)*h)*Zs[i,:])\n",
    "        S = np.append(S,[b],axis=0)\n",
    "    for i in range(1,m+1):\n",
    "        c=int(i*N/m)\n",
    "        if i==1:\n",
    "            Stm = [S[c,:]]\n",
    "        else:\n",
    "            Stm = np.append(Stm,[S[c,:]],axis=0)\n",
    "    price = np.max([np.max(Stm,axis=0)-K,zero],axis=0)*np.exp(-r*T)\n",
    "    return np.mean(price),CI(price,significant_level)"
   ]
  },
  {
   "cell_type": "code",
   "execution_count": 154,
   "id": "2f1038e2",
   "metadata": {},
   "outputs": [
    {
     "name": "stderr",
     "output_type": "stream",
     "text": [
      "100%|██████████| 252/252 [04:38<00:00,  1.11s/it]\n"
     ]
    },
    {
     "data": {
      "text/plain": [
       "(0.25633599724903766, (0.25337882229994413, 0.2592931721981312))"
      ]
     },
     "execution_count": 154,
     "metadata": {},
     "output_type": "execute_result"
    }
   ],
   "source": [
    "Q4_simulation_2(3,1000000,0.05)"
   ]
  },
  {
   "cell_type": "code",
   "execution_count": 155,
   "id": "f169e676",
   "metadata": {},
   "outputs": [
    {
     "name": "stderr",
     "output_type": "stream",
     "text": [
      "100%|██████████| 252/252 [02:13<00:00,  1.89it/s]\n"
     ]
    },
    {
     "data": {
      "text/plain": [
       "(0.2756311108200495, (0.27133518142205787, 0.2799270402180411))"
      ]
     },
     "execution_count": 155,
     "metadata": {},
     "output_type": "execute_result"
    }
   ],
   "source": [
    "Q4_simulation_2(6,500000,0.05)"
   ]
  },
  {
   "cell_type": "code",
   "execution_count": 157,
   "id": "2218f1a2",
   "metadata": {},
   "outputs": [
    {
     "name": "stderr",
     "output_type": "stream",
     "text": [
      "100%|██████████| 252/252 [03:05<00:00,  1.36it/s]\n"
     ]
    },
    {
     "data": {
      "text/plain": [
       "(0.30052468525477616, (0.2966885542099131, 0.30436081629963924))"
      ]
     },
     "execution_count": 157,
     "metadata": {},
     "output_type": "execute_result"
    }
   ],
   "source": [
    "Q4_simulation_2(12,700000,0.05)"
   ]
  },
  {
   "cell_type": "code",
   "execution_count": null,
   "id": "a1c126eb",
   "metadata": {},
   "outputs": [],
   "source": []
  },
  {
   "cell_type": "code",
   "execution_count": 13,
   "id": "824f50a6",
   "metadata": {},
   "outputs": [],
   "source": [
    "# Q2 \n",
    "# Parameters\n",
    "r=0.04\n",
    "sigma=0.3\n",
    "K=55\n",
    "T=1\n",
    "i0=2\n",
    "m=4 ## Notice!\n",
    "N=252\n",
    "\n",
    "def Stockprice(N):\n",
    "    S=[100]\n",
    "    Z=np.random.normal(0,1,N)\n",
    "    h=T/N\n",
    "    for j in range(0,N):\n",
    "        a=S[j]+r*S[j]*h+sigma*S[j]*np.sqrt(h)*Z[j]\n",
    "        S.append(a)\n",
    "    return S\n",
    "\n",
    "def coupon(c,tao_period): # c : Annual coupon(單位:%)\n",
    "    coupon = 0\n",
    "    for i in range(1,tao_period+1):\n",
    "        coupon=coupon+np.exp(-i*r*T/m)*(c*T/m)\n",
    "    return coupon\n",
    "\n",
    "def Q2_simulation(c,size,significant_level):\n",
    "    VC=[]\n",
    "    for j in range(0,size):\n",
    "        S = Stockprice(N) # use function of stock price simulation\n",
    "        # \n",
    "        period=[]\n",
    "        for i in range(i0,m+1):\n",
    "            if S[int(i*N/m)]>=S[0]:\n",
    "                period.append(i)\n",
    "            else:\n",
    "                period.append(m)\n",
    "        tao_period = min(period) # 注意tao是期數\n",
    "\n",
    "        # payoff # use coupon function\n",
    "        if tao_period<m:\n",
    "            payoff = np.exp(-r*T*tao_period/m)*S[0]+coupon(c,tao_period)\n",
    "        else:\n",
    "            if S[-1]>K:\n",
    "                payoff = np.exp(-r*T)*S[0]+coupon(c,tao_period)\n",
    "            else:\n",
    "                payoff = np.exp(-r*T)*S[-1]+coupon(c,tao_period)\n",
    "        VC.append(payoff)\n",
    "    return CI(VC,significant_level)"
   ]
  },
  {
   "cell_type": "code",
   "execution_count": 14,
   "id": "8f6f9f15",
   "metadata": {
    "scrolled": true
   },
   "outputs": [
    {
     "data": {
      "text/plain": [
       "(99.97309178124375, 100.00236261193247)"
      ]
     },
     "execution_count": 14,
     "metadata": {},
     "output_type": "execute_result"
    }
   ],
   "source": [
    "Q2_simulation(5.66,1000000,0.05)"
   ]
  },
  {
   "cell_type": "code",
   "execution_count": null,
   "id": "4b3f84dd",
   "metadata": {},
   "outputs": [],
   "source": []
  }
 ],
 "metadata": {
  "kernelspec": {
   "display_name": "Python 3",
   "language": "python",
   "name": "python3"
  },
  "language_info": {
   "codemirror_mode": {
    "name": "ipython",
    "version": 3
   },
   "file_extension": ".py",
   "mimetype": "text/x-python",
   "name": "python",
   "nbconvert_exporter": "python",
   "pygments_lexer": "ipython3",
   "version": "3.8.8"
  }
 },
 "nbformat": 4,
 "nbformat_minor": 5
}
