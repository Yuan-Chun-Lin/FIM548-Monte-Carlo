{
 "cells": [
  {
   "cell_type": "code",
   "execution_count": 1,
   "id": "1eed54c8",
   "metadata": {},
   "outputs": [],
   "source": [
    "import numpy as np\n",
    "import statsmodels.api as sm\n",
    "import matplotlib.pyplot as plt\n",
    "from scipy.stats import norm\n",
    "from scipy.stats import uniform\n",
    "import tqdm"
   ]
  },
  {
   "cell_type": "code",
   "execution_count": 2,
   "id": "80a0ef4a",
   "metadata": {},
   "outputs": [],
   "source": [
    "# CI function\n",
    "def CI(data,alpha):\n",
    "    sample_mean=np.mean(data) # data is a list!\n",
    "    sample_sigma=np.std(data)\n",
    "    critical_point = norm.ppf(1-alpha/2)\n",
    "    LB=sample_mean-critical_point*sample_sigma/np.sqrt(len(data))\n",
    "    UB=sample_mean+critical_point*sample_sigma/np.sqrt(len(data))\n",
    "    return LB,UB"
   ]
  },
  {
   "cell_type": "markdown",
   "id": "5cd26b2b",
   "metadata": {},
   "source": [
    "# Question 1:"
   ]
  },
  {
   "cell_type": "markdown",
   "id": "aa86281f",
   "metadata": {},
   "source": [
    "## (a)"
   ]
  },
  {
   "cell_type": "code",
   "execution_count": 3,
   "id": "2ee2407f",
   "metadata": {},
   "outputs": [
    {
     "name": "stderr",
     "output_type": "stream",
     "text": [
      "100%|██████████| 252/252 [00:27<00:00,  9.07it/s]\n"
     ]
    }
   ],
   "source": [
    "# parameters\n",
    "r,div,sigma,rho=0.05,0.02,0.3,0.2\n",
    "S10,S20,S30,K,T=100,100,100,100,1\n",
    "N,size = 252,100000 # N:steps size:simulation times\n",
    "h=T/N\n",
    "# simulate standard normal\n",
    "Z1=np.random.normal(0,1,(N,size))\n",
    "Z2=np.random.normal(0,1,(N,size))\n",
    "Z3=np.random.normal(0,1,(N,size))\n",
    "X1=Z1\n",
    "X2=rho*Z1+np.sqrt(1-(rho**2))*Z2\n",
    "X3=rho*Z1+((rho-rho**2)/np.sqrt(1-rho**2))*Z2+(np.sqrt(1-rho**2-((rho-rho**2)**2)/(1-rho**2)))*Z3\n",
    "# simulate stock price: St=S0*exp{(miu-0.5*sigma^2)*t+sigma*Wt}\n",
    "S1=np.ones((1,size))*S10\n",
    "S2=np.ones((1,size))*S20\n",
    "S3=np.ones((1,size))*S30\n",
    "zero = np.zeros(size)\n",
    "for i in tqdm.tqdm(range(N)):\n",
    "    a=S1[i,:]*np.exp((r-div-(sigma**2)*0.5)*(h)+sigma*np.sqrt(h)*X1[i,:])\n",
    "    b=S2[i,:]*np.exp((r-div-(sigma**2)*0.5)*(h)+sigma*np.sqrt(h)*X2[i,:])\n",
    "    c=S3[i,:]*np.exp((r-div-(sigma**2)*0.5)*(h)+sigma*np.sqrt(h)*X3[i,:])\n",
    "    S1=np.append(S1,[a],axis=0)\n",
    "    S2=np.append(S2,[b],axis=0)\n",
    "    S3=np.append(S3,[c],axis=0)\n",
    "payoff=np.max([S1[-1,:]+S2[-1,:]-S3[-1,:]-K,zero],axis=0) \n",
    "# Discount to now"
   ]
  },
  {
   "cell_type": "code",
   "execution_count": 4,
   "id": "33759343",
   "metadata": {},
   "outputs": [
    {
     "data": {
      "text/plain": [
       "array([ 0.        ,  0.        ,  0.        , ..., 27.85993772,\n",
       "       39.0736305 , 66.45905357])"
      ]
     },
     "execution_count": 4,
     "metadata": {},
     "output_type": "execute_result"
    }
   ],
   "source": [
    "payoff"
   ]
  },
  {
   "cell_type": "code",
   "execution_count": 6,
   "id": "4b2bd993",
   "metadata": {},
   "outputs": [
    {
     "data": {
      "text/plain": [
       "(21.32475606149343, 21.736769029358165)"
      ]
     },
     "execution_count": 6,
     "metadata": {},
     "output_type": "execute_result"
    }
   ],
   "source": [
    "CI(payoff,0.05)"
   ]
  },
  {
   "cell_type": "code",
   "execution_count": 7,
   "id": "31d55018",
   "metadata": {},
   "outputs": [
    {
     "data": {
      "text/plain": [
       "21.530762545425798"
      ]
     },
     "execution_count": 7,
     "metadata": {},
     "output_type": "execute_result"
    }
   ],
   "source": [
    "np.mean(payoff)"
   ]
  },
  {
   "cell_type": "code",
   "execution_count": 9,
   "id": "404c77d2",
   "metadata": {},
   "outputs": [
    {
     "data": {
      "text/plain": [
       "0.01739660552946509"
      ]
     },
     "execution_count": 9,
     "metadata": {},
     "output_type": "execute_result"
    }
   ],
   "source": [
    "np.var(payoff/N)"
   ]
  },
  {
   "cell_type": "markdown",
   "id": "225430c6",
   "metadata": {},
   "source": [
    "## (b)"
   ]
  },
  {
   "cell_type": "code",
   "execution_count": 18,
   "id": "c677a33c",
   "metadata": {},
   "outputs": [
    {
     "name": "stderr",
     "output_type": "stream",
     "text": [
      "100%|██████████| 11/11 [00:00<00:00, 48.59it/s]"
     ]
    },
    {
     "name": "stdout",
     "output_type": "stream",
     "text": [
      "35.70219003305834 (35.642500792034, 35.76187927408266) 0.0009321105075052054\n"
     ]
    },
    {
     "name": "stderr",
     "output_type": "stream",
     "text": [
      "\n"
     ]
    }
   ],
   "source": [
    "# part b\n",
    "\n",
    "r=0.05\n",
    "yie=0.02\n",
    "sigma=0.3\n",
    "rho=0.2\n",
    "S1=100\n",
    "S2=100\n",
    "S3=100\n",
    "K=100\n",
    "T=1\n",
    "N=100000 # simulation time\n",
    "m=12 # steps\n",
    "dt=T/m\n",
    "M=10 # number of polynomial\n",
    "\n",
    "\n",
    "S1=S1*np.ones((m+1,N))\n",
    "S2=S2*np.ones((m+1,N))\n",
    "S3=S3*np.ones((m+1,N))\n",
    "\n",
    "Normal_1=np.random.normal(0,1,(m,N))\n",
    "Normal_2=np.random.normal(0,1,(m,N))\n",
    "Normal_3=np.random.normal(0,1,(m,N))\n",
    "\n",
    "Z_1=Normal_1\n",
    "Z_2=rho*Normal_1+np.sqrt(1-rho**2)*Normal_2\n",
    "Z_3=rho*Normal_1+((rho-rho**2)/np.sqrt(1-rho**2))*Normal_2+np.sqrt(1-rho**2-(rho-rho**2)**2/((1-rho**2)))*Normal_3\n",
    "\n",
    "\n",
    "for i in range(0,m):\n",
    "    S1[i+1,:]=S1[i,:]*np.exp((r-yie-sigma**2/2)*dt+sigma*np.sqrt(dt)*Z_1[i,:])\n",
    "    S2[i+1,:]=S2[i,:]*np.exp((r-yie-sigma**2/2)*dt+sigma*np.sqrt(dt)*Z_2[i,:])\n",
    "    S3[i+1,:]=S3[i,:]*np.exp((r-yie-sigma**2/2)*dt+sigma*np.sqrt(dt)*Z_3[i,:])\n",
    "\n",
    "# Generate terminal payoff\n",
    "V=np.zeros((m+1,N))\n",
    "V[m,:]=np.where(S1[m]+S2[m]-S3[m]-K>0,S1[m]+S2[m]-S3[m]-K,0)\n",
    "\n",
    "# Backward calculate \"Continue value\" for each time point\n",
    "for i in tqdm.tqdm(range(m-1,0,-1)):\n",
    "    psi=np.zeros((M,N))\n",
    "    \n",
    "    psi[0,:]=1\n",
    "    psi[1,:]=S1[i,:]\n",
    "    psi[2,:]=S2[i,:]\n",
    "    psi[3,:]=S3[i,:]\n",
    "    psi[4,:]=S1[i,:]**2\n",
    "    psi[5,:]=S2[i,:]**2\n",
    "    psi[6,:]=S3[i,:]**2\n",
    "    psi[7,:]=S1[i,:]**3\n",
    "    psi[8,:]=S2[i,:]**3\n",
    "    psi[9,:]=S3[i,:]**3\n",
    "    \n",
    "    # Continue Value\n",
    "    Bpsi=np.dot(psi,np.transpose(psi))\n",
    "    beta=np.dot(np.dot(np.linalg.inv(Bpsi),psi),np.transpose(V[i+1,:]))\n",
    "    CV=np.exp((yie-r)*dt)*np.dot(np.transpose(beta),psi)\n",
    "    \n",
    "    # Exercise immediately payoff \n",
    "    v=np.where(S1[i+1]+S2[i+1]-S3[i+1]-K>0,S1[i+1]+S2[i+1]-S3[i+1]-K,0)\n",
    "    \n",
    "    # Compare with each other\n",
    "    V[i,:]=np.where(CV>v,CV,v)\n",
    "Value=np.max(np.exp((yie-r)*dt)*np.mean(V[1]),0)\n",
    "\n",
    "print(Value,CI(np.exp((yie-r)*dt)*V[1],0.05),np.var(V[1])/N)"
   ]
  },
  {
   "cell_type": "markdown",
   "id": "8edb0e9f",
   "metadata": {},
   "source": [
    "# Question 2:"
   ]
  },
  {
   "cell_type": "markdown",
   "id": "95285e2d",
   "metadata": {},
   "source": [
    "## (a)"
   ]
  },
  {
   "cell_type": "code",
   "execution_count": 36,
   "id": "aef8b47d",
   "metadata": {},
   "outputs": [
    {
     "name": "stdout",
     "output_type": "stream",
     "text": [
      "3.60798123303267\n"
     ]
    }
   ],
   "source": [
    "S1=50\n",
    "K1=51\n",
    "sigma1=0.28\n",
    "T1=0.75\n",
    "\n",
    "S2=20\n",
    "K2=19\n",
    "sigma2=0.25\n",
    "T2=1\n",
    "r=0.06\n",
    "rho=0.4\n",
    "N=1000000\n",
    "\n",
    "delta_c=norm.cdf((np.log(S1/K1)+(r+sigma1**2/2)*T1)/(sigma1*np.sqrt(T1)))\n",
    "delta_p=norm.cdf((np.log(S2/K2)+(r+sigma2**2/2)*T2)/(sigma2*np.sqrt(T2)))-1\n",
    "\n",
    "Z_1=np.random.normal(0,1,N)\n",
    "Z_2=rho*Z_1+np.sqrt(1-rho**2)*np.random.normal(0,1,N)\n",
    "\n",
    "dx1=Z_1*sigma1/np.sqrt(252) # volatilty is annual \n",
    "dx2=Z_2*sigma2/np.sqrt(252)\n",
    "dV1=delta_c*S1*dx1\n",
    "dV2=delta_p*S2*dx2\n",
    "dV=dV1+dV2\n",
    "\n",
    "VaR=-np.percentile(dV,1)*np.sqrt(10)\n",
    "print(VaR)"
   ]
  },
  {
   "cell_type": "markdown",
   "id": "21a1ed53",
   "metadata": {},
   "source": [
    "## (b)"
   ]
  },
  {
   "cell_type": "code",
   "execution_count": 37,
   "id": "976ba642",
   "metadata": {},
   "outputs": [
    {
     "name": "stdout",
     "output_type": "stream",
     "text": [
      "3.389627728545039\n"
     ]
    }
   ],
   "source": [
    "# part b\n",
    "S1=50\n",
    "K1=51\n",
    "sigma1=0.28\n",
    "T1=0.75\n",
    "\n",
    "S2=20\n",
    "K2=19\n",
    "sigma2=0.25\n",
    "T2=1\n",
    "r=0.06\n",
    "rho=0.4\n",
    "N=1000000\n",
    "\n",
    "delta_c=norm.cdf((np.log(S1/K1)+(r+sigma1**2/2)*T1)/(sigma1*np.sqrt(T1)))\n",
    "delta_p=norm.cdf((np.log(S2/K2)+(r+sigma2**2/2)*T2)/(sigma2*np.sqrt(T2)))-1\n",
    "\n",
    "Z_1=np.random.normal(0,1,N)\n",
    "Z_2=rho*Z_1+np.sqrt(1-rho**2)*np.random.normal(0,1,N)\n",
    "dx1=Z_1*sigma1/np.sqrt(252)\n",
    "dx2=Z_2*sigma2/np.sqrt(252)\n",
    "\n",
    "# second order of C/S **remind chain rule\n",
    "gamma1=norm.pdf((np.log(S1/K1)+(r+sigma1**2/2)*T1)/(sigma1*np.sqrt(T1)))/(S1*sigma1*np.sqrt(T1)) \n",
    "gamma2=norm.pdf((np.log(S2/K2)+(r+sigma2**2/2)*T2)/(sigma2*np.sqrt(T2)))/(S2*sigma2*np.sqrt(T2))\n",
    "\n",
    "dV1=delta_c*S1*dx1+0.5*gamma1*(S1**2)*(dx1**2)\n",
    "dV2=delta_p*S2*dx2+0.5*gamma2*(S2**2)*(dx2**2)\n",
    "dV=dV1+dV2\n",
    "\n",
    "VaR=-np.percentile(dV,1)*np.sqrt(10)\n",
    "print(VaR)"
   ]
  },
  {
   "cell_type": "markdown",
   "id": "d952acc3",
   "metadata": {},
   "source": [
    "## (c)"
   ]
  },
  {
   "cell_type": "code",
   "execution_count": 38,
   "id": "77dfc2b0",
   "metadata": {},
   "outputs": [
    {
     "name": "stdout",
     "output_type": "stream",
     "text": [
      "3.8475259215572173\n"
     ]
    }
   ],
   "source": [
    "# part c\n",
    "N=1000000\n",
    "S1=50\n",
    "K1=51\n",
    "sigma1=0.28\n",
    "T1=0.75\n",
    "\n",
    "S2=20\n",
    "K2=19\n",
    "sigma2=0.25\n",
    "T2=1\n",
    "r=0.06\n",
    "rho=0.4\n",
    "\n",
    "\n",
    "Z_1=np.random.normal(0,1,N)\n",
    "Z_2=rho*Z_1+np.sqrt(1-rho**2)*np.random.normal(0,1,N)\n",
    "\n",
    "def C(S,T):\n",
    "    return S*norm.cdf((np.log(S/K1)+(r+sigma1**2/2)*T)/(sigma1*np.sqrt(T)))-K1*np.exp(-r*T)*norm.cdf((np.log(S/K1)+(r-sigma1**2/2)*T)/(sigma1*np.sqrt(T)))\n",
    "def P(S,T):\n",
    "    return -S*norm.cdf((np.log(K2/S)-(r+sigma2**2/2)*T)/(sigma2*np.sqrt(T)))+K2*np.exp(-r*T)*norm.cdf((np.log(K2/S)-(r-sigma2**2/2)*T)/(sigma2*np.sqrt(T)))\n",
    "\n",
    "h=1/252\n",
    "S1_h=S1*np.exp((r-sigma1**2/2)*h+sigma1*np.sqrt(h)*Z_1)\n",
    "S2_h=S2*np.exp((r-sigma2**2/2)*h+sigma2*np.sqrt(h)*Z_2)\n",
    "\n",
    "# t=0 portfolio value\n",
    "p_0=C(S1,T1)+P(S2,T2)\n",
    "# t=1 portfolio value **remind: maturity date would minus 1.\n",
    "p_1=C(S1_h,T1-h)+P(S2_h,T2-h)\n",
    "dV=p_0-p_1\n",
    "VaR=np.percentile(dV,1)*(-np.sqrt(10))\n",
    "print(VaR)"
   ]
  },
  {
   "cell_type": "markdown",
   "id": "e131d137",
   "metadata": {},
   "source": [
    "# Question 3:"
   ]
  },
  {
   "cell_type": "code",
   "execution_count": 20,
   "id": "183c9078",
   "metadata": {},
   "outputs": [
    {
     "name": "stdout",
     "output_type": "stream",
     "text": [
      "0.76447 (0.7618400261480249, 0.767099973851975)\n"
     ]
    }
   ],
   "source": [
    "V0=100\n",
    "u=0.03\n",
    "sigma=0.4\n",
    "B=70\n",
    "T=5\n",
    "\n",
    "m=252 # steps\n",
    "h=T/m\n",
    "N=100000\n",
    "\n",
    "V=np.ones((m+1,N))*V0\n",
    "M=np.zeros((m,N))\n",
    "\n",
    "Z=np.random.normal(0,1,(m,N))\n",
    "U=uniform.rvs(size=(m,N))\n",
    "\n",
    "num=[]\n",
    "for n in range(N):\n",
    "    for i in range(m):\n",
    "        V[i+1,n]=V[i,n]*np.exp((u-sigma**2/2)*h+sigma*np.sqrt(h)*Z[i,n])\n",
    "        M[i,n]=np.exp(0.5*(np.log(V[i+1,n]*V[i,n])-np.sqrt((np.log(V[i+1,n]/V[i,n]))**2-2*sigma**2*h*np.log(U[i,n]))))\n",
    "        if M[i,n]<B:\n",
    "            num.append(1)\n",
    "            break\n",
    "        if i==m-1:\n",
    "            num.append(0)\n",
    "print(np.mean(num),CI(num,0.05))"
   ]
  },
  {
   "cell_type": "code",
   "execution_count": null,
   "id": "62accf41",
   "metadata": {},
   "outputs": [],
   "source": []
  }
 ],
 "metadata": {
  "kernelspec": {
   "display_name": "Python 3",
   "language": "python",
   "name": "python3"
  },
  "language_info": {
   "codemirror_mode": {
    "name": "ipython",
    "version": 3
   },
   "file_extension": ".py",
   "mimetype": "text/x-python",
   "name": "python",
   "nbconvert_exporter": "python",
   "pygments_lexer": "ipython3",
   "version": "3.8.8"
  }
 },
 "nbformat": 4,
 "nbformat_minor": 5
}
